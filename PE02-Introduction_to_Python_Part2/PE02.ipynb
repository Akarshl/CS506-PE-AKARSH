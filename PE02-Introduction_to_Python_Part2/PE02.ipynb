{
 "cells": [
  {
   "cell_type": "code",
   "execution_count": 1,
   "id": "020625a2",
   "metadata": {},
   "outputs": [
    {
     "name": "stdout",
     "output_type": "stream",
     "text": [
      "Output: 2\n"
     ]
    }
   ],
   "source": [
    "def strStr(haystack: str, needle: str) -> int:\n",
    "    if needle == \"\": # If needle is an empty string return 0\n",
    "        return 0\n",
    "    for i in range(len(haystack) - len(needle) + 1): #find the first occurrence of needle\n",
    "        if haystack[i:i+len(needle)] == needle: # compare substring with needle\n",
    "            return i\n",
    "    return -1\n",
    "haystack = input(\"Enter the haystack string: \")\n",
    "needle = input(\"Enter the needle string: \")\n",
    "result = strStr(haystack, needle)\n",
    "print(\"Output:\", result)"
   ]
  },
  {
   "cell_type": "code",
   "execution_count": 2,
   "id": "0233bdc7",
   "metadata": {},
   "outputs": [
    {
     "name": "stdout",
     "output_type": "stream",
     "text": [
      "Output: True\n"
     ]
    }
   ],
   "source": [
    "def isAnagram(s: str, t: str) -> bool:\n",
    "    return sorted(s) == sorted(t) # check if sorted characters of both strings are equal\n",
    "s = input(\"Enter the first string (s): \")\n",
    "t = input(\"Enter the second string (t): \")\n",
    "result = isAnagram(s, t) # check if t is an anagram of s\n",
    "print(\"Output:\", result)"
   ]
  },
  {
   "cell_type": "code",
   "execution_count": 3,
   "id": "2c418214",
   "metadata": {},
   "outputs": [
    {
     "name": "stdout",
     "output_type": "stream",
     "text": [
      "Longest common prefix: \"fl\"\n"
     ]
    }
   ],
   "source": [
    "def longestCommonPrefix(strs):\n",
    "    if not strs:\n",
    "        return \"\"\n",
    "    prefix = strs[0] # assuming the first string is the common prefix\n",
    "    for word in strs[1:]: # Compare it with each string in the list\n",
    "        while not word.startswith(prefix):\n",
    "            prefix = prefix[:-1]\n",
    "            if prefix == \"\":\n",
    "                return \"\"\n",
    "    return prefix\n",
    "user_input = input(\"Enter strings separated by space: \")\n",
    "strs = user_input.split()\n",
    "result = longestCommonPrefix(strs)\n",
    "print(\"Longest common prefix:\", '\"' + result + '\"')"
   ]
  },
  {
   "cell_type": "code",
   "execution_count": null,
   "id": "1c7ca64a",
   "metadata": {},
   "outputs": [
    {
     "name": "stdout",
     "output_type": "stream",
     "text": [
      "The sum is: 12\n"
     ]
    }
   ],
   "source": [
    "try:\n",
    "    num1 = int(input(\"Enter the first number: \"))\n",
    "    num2 = int(input(\"Enter the second number: \"))\n",
    "    result = num1 + num2 #sum of 2 numbers\n",
    "    print(\"The sum is:\", result)\n",
    "except ValueError:\n",
    "    print(\"Please enter valid numbers only. Text is not allowed.\")"
   ]
  },
  {
   "cell_type": "code",
   "execution_count": 5,
   "id": "cf373830",
   "metadata": {},
   "outputs": [
    {
     "name": "stdout",
     "output_type": "stream",
     "text": [
      "\n",
      "User Profile Summary:\n",
      "Name     : Alice Johnson\n",
      "Age      : 28\n",
      "Email    : alice.j@example.com\n",
      "Location : New York\n",
      "\n",
      "Hello, Alice! Welcome back!\n",
      "\n",
      "User Profile Summary:\n",
      "Name     : Bob Smith\n",
      "Age      : 35\n",
      "Email    : bob.smith@example.com\n",
      "Location : Los Angeles\n",
      "\n",
      "Hello, Bob! Welcome back!\n"
     ]
    }
   ],
   "source": [
    "class User:\n",
    "    def __init__(self, first_name, last_name, age, email, location):\n",
    "        self.first_name = first_name\n",
    "        self.last_name = last_name\n",
    "        self.age = age\n",
    "        self.email = email\n",
    "        self.location = location\n",
    "    def describe_user(self):\n",
    "        print(f\"\\nUser Profile Summary:\")\n",
    "        print(f\"Name     : {self.first_name} {self.last_name}\")\n",
    "        print(f\"Age      : {self.age}\")\n",
    "        print(f\"Email    : {self.email}\")\n",
    "        print(f\"Location : {self.location}\")\n",
    "    def greet_user(self):\n",
    "        print(f\"\\nHello, {self.first_name}! Welcome back!\")\n",
    "# Create user instances\n",
    "user1 = User(\"Alice\", \"Johnson\", 28, \"alice.j@example.com\", \"New York\")\n",
    "user2 = User(\"Bob\", \"Smith\", 35, \"bob.smith@example.com\", \"Los Angeles\")\n",
    "# Call methods\n",
    "user1.describe_user()\n",
    "user1.greet_user()\n",
    "user2.describe_user()\n",
    "user2.greet_user()"
   ]
  },
  {
   "cell_type": "code",
   "execution_count": 6,
   "id": "4a34c4f7",
   "metadata": {},
   "outputs": [
    {
     "name": "stdout",
     "output_type": "stream",
     "text": [
      "Word Counter\n",
      "Number of words in 'sample.txt': 3\n",
      "\n",
      "Guest Book\n",
      "Enter 'q' to quit.\n",
      "Hello, Akarsh! Nice to meet you.\n",
      "Exiting guest book...\n",
      "\n",
      "\n",
      "Reading Files\n",
      "\n",
      "Contents of sample.txt:\n",
      "Buddy\n",
      "Max\n",
      "Bella\n"
     ]
    }
   ],
   "source": [
    "def count_words_in_file(filename): # function to count the number of words in a file\n",
    "    try:\n",
    "        with open(filename, 'r') as file:\n",
    "            text = file.read()\n",
    "            words = text.split()\n",
    "            return len(words)\n",
    "    except FileNotFoundError:\n",
    "        print(f\"Sorry, the file '{filename}' was not found.\")\n",
    "        return 0\n",
    "\n",
    "def guest_book(): # function to manage the guest book\n",
    "    print(\"\\nGuest Book\")\n",
    "    print(\"Enter 'q' to quit.\")\n",
    "    while True:\n",
    "        name = input(\"Enter your name: \")\n",
    "        if name.lower() == 'q':\n",
    "            print(\"Exiting guest book...\\n\")\n",
    "            break\n",
    "        print(f\"Hello, {name}! Nice to meet you.\")\n",
    "        with open(\"guest_book.txt\", \"a\") as file:\n",
    "            file.write(f\"{name} visited the site.\\n\")\n",
    "\n",
    "def read_file(filename): # function to read and print the contents of a file\n",
    "    try:\n",
    "        with open(filename, 'r') as file:\n",
    "            print(f\"\\nContents of {filename}:\")\n",
    "            print(file.read())\n",
    "    except FileNotFoundError:\n",
    "        print(f\"The file '{filename}' does not exist.\")\n",
    "\n",
    "if __name__ == \"__main__\":\n",
    "    print(\"Word Counter\")\n",
    "    filename = input(\"Enter the filename to count words from: \")\n",
    "    count = count_words_in_file(filename)\n",
    "    print(f\"Number of words in '{filename}': {count}\")\n",
    "    guest_book()\n",
    "    print(\"\\nReading Files\")\n",
    "    read_file(\"sample.txt\")\n",
    "  "
   ]
  }
 ],
 "metadata": {
  "kernelspec": {
   "display_name": "Python 3",
   "language": "python",
   "name": "python3"
  },
  "language_info": {
   "codemirror_mode": {
    "name": "ipython",
    "version": 3
   },
   "file_extension": ".py",
   "mimetype": "text/x-python",
   "name": "python",
   "nbconvert_exporter": "python",
   "pygments_lexer": "ipython3",
   "version": "3.12.1"
  }
 },
 "nbformat": 4,
 "nbformat_minor": 5
}
