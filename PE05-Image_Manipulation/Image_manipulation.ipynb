{
 "cells": [
  {
   "cell_type": "code",
   "execution_count": null,
   "id": "fbfc5a2f",
   "metadata": {},
   "outputs": [],
   "source": [
    "from PIL import Image, ImageEnhance, ImageFilter\n",
    "\"\"\"\n",
    "    Enhances the input image by applying brightness and contrast adjustments,\n",
    "    followed by an unsharp masking filter for sharpening.\n",
    "    Parameters:input_path (str): The file path to the input image, output_path (str): The file path to save the enhanced output image.\n",
    "    Processing Steps:\n",
    "    1. Brightness is increased by a factor of 1.5.\n",
    "    2. Contrast is increased by a factor of 2.0.\n",
    "    3. Unsharp masking is applied to sharpen the image.\n",
    "       - radius = 2: Controls the blur radius.\n",
    "       - percent = 150: Amount of sharpening.\n",
    "       - threshold = 3: Minimum brightness change that will be sharpened.\n",
    "    \"\"\"\n",
    "im = Image.open(\"PE05-input.jpg\")\n",
    "brightness_enhancer = ImageEnhance.Brightness(im) # Enhance brightness\n",
    "im_bright = brightness_enhancer.enhance(1.5)\n",
    "contrast_enhancer = ImageEnhance.Contrast(im_bright) # Enhance contrast\n",
    "im_contrast = contrast_enhancer.enhance(2.0)\n",
    "im_sharp = im_contrast.filter(ImageFilter.UnsharpMask(radius=2, percent=150, threshold=3))\n",
    "im_sharp.save(\"PE05_output.png\")\n",
    "\n",
    "# ------------------- ANSWERS -------------------\n",
    "# 1. Number of people visible in the output image: 2\n",
    "#    - Two people walking on the sidewalk, clearly visible after enhancement.\n",
    "\n",
    "# 2. Number of trees identified: 2\n",
    "#    - One to the left of the people on the sidewalk, and one slightly ahead of them near the road.\n",
    "\n",
    "# 3. Windows on 2nd floor of Building 1 (right side): 2\n",
    "#    - The rightmost building marked \"1\" shows 2 distinct windows on the 2nd floor.\n",
    "\n",
    "# 4. Windows in Building 2 (center right, facing the viewer): 4\n",
    "#    - The building marked \"2\" shows 4 clear windows (2 on each side of the corner).\n",
    "\n",
    "# ------------------------------------------------"
   ]
  }
 ],
 "metadata": {
  "kernelspec": {
   "display_name": "Python 3",
   "language": "python",
   "name": "python3"
  },
  "language_info": {
   "codemirror_mode": {
    "name": "ipython",
    "version": 3
   },
   "file_extension": ".py",
   "mimetype": "text/x-python",
   "name": "python",
   "nbconvert_exporter": "python",
   "pygments_lexer": "ipython3",
   "version": "3.12.1"
  }
 },
 "nbformat": 4,
 "nbformat_minor": 5
}
